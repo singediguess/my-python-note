{
 "cells": [
  {
   "cell_type": "code",
   "execution_count": 36,
   "metadata": {},
   "outputs": [
    {
     "name": "stdout",
     "output_type": "stream",
     "text": [
      "Status code: 200\n",
      "-----------------------\n",
      "Re: [討論] 關於灰熊有沒有回場\n",
      "\t IronBloodN , 10/22\n",
      "[討論] Rubio的防守到底有多強？\n",
      "\t star1739456 , 10/22\n",
      "[討論] 聯盟可以要求球員裝固定式牙套嗎\n",
      "\t SUHU1985 , 10/22\n",
      "[BOX ] Suns 88:130 Clippers 數據\n",
      "\t Rambo , 10/22\n",
      "[討論] 字母哥今年是不是要跟喇叭黃金交叉了\n",
      "\t b102345 , 10/22\n",
      "[新聞] NBA/柯瑞.杜蘭特被趕出場 勇士教頭酸:禁\n",
      "\t k22015987 , 10/22\n",
      "Re: [討論] Rubio的防守到底有多強？\n",
      "\t c1236 , 10/22\n",
      "[情報] Booker：關鍵時刻我泰然自若 \n",
      "\t YummyKidd , 10/22\n",
      "[花邊] 字母哥：希望父親在天堂為我們感到驕傲\n",
      "\t Wojnarowski , 10/22\n",
      "[討論] D.Russell和D.Booker是不是又黃金交叉了\n",
      "\t js2a117573 , 10/22\n",
      "[討論] 字母哥這身體素質怎麼15順位才被選到？\n",
      "\t dxc669 , 10/22\n",
      "[花邊] Lonzo Ball發行新歌<超級賽亞人>\n",
      "\t kakala99 , 10/22\n",
      "[新聞] 中國新移動長城NBA登場！　周琦首秀3籃板\n",
      "\t Blanche , 10/22\n",
      "[新聞] 西蒙斯生涯前三戰都達10+10+5 史上第2人\n",
      "\t Greatness , 10/22\n",
      "[新聞] 羅斯談腳踝傷勢：只是輕度扭傷\n",
      "\t yungkan , 10/22\n",
      "[討論] 有關NIKE NBA的最新廣告（附影片）？\n",
      "\t a11114xy , 10/22\n",
      "Re: [討論] Rubio的防守到底有多強？\n",
      "\t nuturewind , 10/22\n",
      "[情報] 2017-18 自由球員市場異動整理表 (9/26)\n",
      "\t laigei ,  6/21\n",
      "[公告] 板規v6.2\n",
      "\t abc7360393 ,  9/04\n",
      "[情報] 2017-18 例行賽賽程 (10/18-31)\n",
      "\t laigei , 10/19\n"
     ]
    }
   ],
   "source": [
    "import requests\n",
    "from bs4 import BeautifulSoup as bs\n",
    "url = 'https://www.ptt.cc/bbs/NBA/index.html'\n",
    "res = requests.get(url)\n",
    "print('Status code:', res.status_code)\n",
    "print ('-----------------------')\n",
    "#print(res.text)\n",
    "soup = bs(res.text, 'html.parser')\n",
    "r_ent = soup.find_all('div', 'r-ent')\n",
    "\n",
    "for data in r_ent:\n",
    "    print (data.find('div', 'title').a.string)\n",
    "    print ('\\t', data.find('div', 'meta').find('div', 'author').string, ',', data.find('div', 'meta').find('div', 'date').string)"
   ]
  },
  {
   "cell_type": "code",
   "execution_count": 47,
   "metadata": {},
   "outputs": [
    {
     "name": "stdout",
     "output_type": "stream",
     "text": [
      "<class 'bs4.element.ResultSet'>\n",
      "<class 'bs4.element.Tag'>\n",
      "<class 'bs4.element.Tag'>\n",
      "<class 'bs4.element.Tag'>\n",
      "<class 'bs4.element.NavigableString'>\n",
      "<class 'bs4.element.Tag'>\n",
      "<class 'bs4.element.NavigableString'>\n"
     ]
    }
   ],
   "source": [
    "print (type(r_ent))\n",
    "print (type(r_ent[0]))\n",
    "print (type(r_ent[0].find('div', 'title')))\n",
    "print (type(r_ent[0].find('div', 'title').a))\n",
    "print (type(r_ent[0].find('div', 'title').a.string))\n",
    "print (type(r_ent[0].find('div', 'meta').find('div', 'author')))\n",
    "print (type(r_ent[0].find('div', 'meta').find('div', 'author').string))"
   ]
  },
  {
   "cell_type": "code",
   "execution_count": 29,
   "metadata": {},
   "outputs": [
    {
     "name": "stdout",
     "output_type": "stream",
     "text": [
      "<class 'bs4.element.Tag'>\n"
     ]
    },
    {
     "data": {
      "text/plain": [
       "[<div class=\"date\">10/22</div>, <div class=\"author\">IronBloodN</div>]"
      ]
     },
     "execution_count": 29,
     "metadata": {},
     "output_type": "execute_result"
    }
   ],
   "source": []
  },
  {
   "cell_type": "code",
   "execution_count": null,
   "metadata": {},
   "outputs": [],
   "source": []
  }
 ],
 "metadata": {
  "kernelspec": {
   "display_name": "Python 3",
   "language": "python",
   "name": "python3"
  },
  "language_info": {
   "codemirror_mode": {
    "name": "ipython",
    "version": 3
   },
   "file_extension": ".py",
   "mimetype": "text/x-python",
   "name": "python",
   "nbconvert_exporter": "python",
   "pygments_lexer": "ipython3",
   "version": "3.5.2"
  }
 },
 "nbformat": 4,
 "nbformat_minor": 2
}
